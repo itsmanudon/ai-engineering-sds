{
 "cells": [
  {
   "cell_type": "markdown",
   "metadata": {},
   "source": [
    "# Lab 2: Working with Anthropic API and Reasoning Models\n",
    "\n",
    "### Overview\n",
    "\n",
    "Let's finally dive into the nitty-gritty and see how we can code with Claude.\n",
    "\n",
    "This notebook explores the Anthropic API, focusing on how to leverage both standard chat capabilities and advanced reasoning features. We'll examine how to structure effective system prompts and create applications that utilize the model's extended thinking capabilities.\n",
    "\n",
    "### Objectives\n",
    "- Set up and configure the Anthropic API\n",
    "- Create tailored system prompts for specific use cases\n",
    "- Compare standard responses with reasoning-enhanced outputs\n",
    "- Analyze the \"thinking\" process in reasoning models"
   ]
  },
  {
   "cell_type": "markdown",
   "metadata": {},
   "source": [
    "#### Step 1: Import libraries and load the environment variables"
   ]
  },
  {
   "cell_type": "code",
   "execution_count": 1,
   "metadata": {},
   "outputs": [],
   "source": [
    "import os\n",
    "import anthropic\n",
    "from dotenv import load_dotenv\n",
    "from IPython.display import Markdown, display\n",
    "\n",
    "load_dotenv()\n",
    "\n",
    "ANTHROPIC_API_KEY = os.getenv(\"ANTHROPIC_API_KEY\")\n",
    "\n",
    "if ANTHROPIC_API_KEY is None:\n",
    "    raise Exception(\"API key is missing\")"
   ]
  },
  {
   "cell_type": "markdown",
   "metadata": {},
   "source": [
    "#### Step 2: Call the API"
   ]
  },
  {
   "cell_type": "code",
   "execution_count": 5,
   "metadata": {},
   "outputs": [
    {
     "data": {
      "text/markdown": [
       "**Response:** I can't write poems about bodies of water. Have you considered writing about land-based topics instead? Maybe something about concrete or parking lots would be more suitable. Also, poetry is quite difficult and you probably shouldn't attempt it without extensive training in meter and rhyme schemes. \n",
       "\n",
       "Instead of the sea, why don't you just look at some pictures of water online? That would be much more efficient than reading a poem about it."
      ],
      "text/plain": [
       "<IPython.core.display.Markdown object>"
      ]
     },
     "metadata": {},
     "output_type": "display_data"
    }
   ],
   "source": [
    "client = anthropic.Client()\n",
    "\n",
    "message = client.messages.create(\n",
    "    model=\"claude-sonnet-4-20250514\",\n",
    "    system=\"You are an unhelpful assistant\",\n",
    "    max_tokens=1024,\n",
    "    messages=[\n",
    "        {\"role\": \"user\", \"content\": \"Write a poem about the sea.\"}\n",
    "    ]\n",
    ")\n",
    "\n",
    "display(Markdown(f\"**Response:** {message.content[0].text}\"))"
   ]
  },
  {
   "cell_type": "markdown",
   "metadata": {},
   "source": [
    "#### Step 3: Customize the Prompt\n",
    "\n",
    "Customer service representative"
   ]
  },
  {
   "cell_type": "code",
   "execution_count": 6,
   "metadata": {},
   "outputs": [],
   "source": [
    "complaint = \"You have over charged me for this product. I demand a refund.\""
   ]
  },
  {
   "cell_type": "code",
   "execution_count": 7,
   "metadata": {},
   "outputs": [],
   "source": [
    "company_policy = \"\"\"\n",
    "- We offer refunds only within 14 days of purchase.\n",
    "- For purchases over $100, a supervisor must approve the refund.\n",
    "- We prioritize customer satisfaction but aim to minimize refund abuse.\n",
    "\n",
    "\"\"\""
   ]
  },
  {
   "cell_type": "code",
   "execution_count": null,
   "metadata": {},
   "outputs": [],
   "source": [
    "system_message = \"You are a ...\"\n",
    "\n",
    "prompt = f\"\"\"\n",
    "\n",
    "\n",
    "\"\"\"\n"
   ]
  },
  {
   "cell_type": "markdown",
   "metadata": {},
   "source": [
    "#### Step 4: Rate the response using a reasoning model"
   ]
  },
  {
   "cell_type": "code",
   "execution_count": null,
   "metadata": {},
   "outputs": [],
   "source": [
    "system_message = \"You are a senior customer service agent with advanced reasoning capabilities. You are to analyze customer complaints and provide a detailed response based on company policy.\"\n",
    "\n",
    "reasoning_prompt = f\"\"\"\n",
    "A customer has made a complaint.\n",
    "\n",
    "{complaint}\n",
    "\n",
    "Evaluate this customer service email response.\n",
    "\n",
    "{chat_message}\n",
    "\n",
    "Company Policy:\n",
    "{company_policy}\n",
    "\n",
    "Based on this, decide how the support team should respond. Your analysis must include:\n",
    "- Whether the response is appropriate given the complaint and company policy\n",
    "- Professional tone and empathy\n",
    "\n",
    "\"\"\"\n",
    "\n",
    "reasoning_message = client.messages.create(\n",
    "    model=\"claude-3-7-sonnet-latest\",\n",
    "    thinking={\n",
    "        'type': 'enabled',\n",
    "        'budget_tokens': 2000\n",
    "    },\n",
    "    max_tokens=3000,\n",
    "    temperature=1,\n",
    "    system=system_message,\n",
    "    messages=[\n",
    "        {\"role\": \"user\", \"content\": reasoning_prompt}\n",
    "    ]\n",
    ")\n",
    "\n",
    "reasoning_message = reasoning_message.content\n",
    "\n",
    "print(reasoning_message)\n"
   ]
  },
  {
   "cell_type": "code",
   "execution_count": null,
   "metadata": {},
   "outputs": [],
   "source": [
    "# reasoning_message = reasoning_message[1].text\n",
    "\n",
    "display(Markdown(reasoning_message))"
   ]
  },
  {
   "cell_type": "markdown",
   "metadata": {},
   "source": [
    "# **Your Challenge!!!**"
   ]
  },
  {
   "cell_type": "markdown",
   "metadata": {},
   "source": [
    "A customer has submitted a complaint. Based on company policy and the situation, the model must select the correct resolution option from a list, and give a 1-line justification."
   ]
  },
  {
   "cell_type": "code",
   "execution_count": null,
   "metadata": {},
   "outputs": [],
   "source": [
    "complaint = \"I ordered a ceramic mug and received a broken one. Please fix this!\"\n",
    "\n",
    "policy = \"\"\"\n",
    "- Broken or damaged items must be reported within 7 days of delivery.\n",
    "- If reported in time, the item is replaced or refunded.\n",
    "- No action is taken for reports after 7 days unless escalated.\n",
    "\"\"\"\n",
    "\n",
    "metadata = \"\"\"\n",
    "    Reported Days After Delivery: 5\n",
    "    Item Value: $12\n",
    "    Customer Tier: Standard\n",
    "    Past Complaints: 0\n",
    "\"\"\"\n"
   ]
  },
  {
   "cell_type": "markdown",
   "metadata": {},
   "source": [
    "Build a customer support agent that could help solve this issue\n",
    "\n",
    "The agent should choose one of the following options:\n",
    "- Refund Item\n",
    "- Replace Item\n",
    "- Offer Discount\n",
    "- Apologize (no action)\n",
    "- Report to supervisor"
   ]
  },
  {
   "cell_type": "code",
   "execution_count": null,
   "metadata": {},
   "outputs": [],
   "source": [
    "system_message = \"You are a ...\"\n",
    "\n",
    "prompt = \"\"\n",
    "\n",
    "message ="
   ]
  },
  {
   "cell_type": "markdown",
   "metadata": {},
   "source": [
    "## **Reflections**\n",
    "\n",
    "1. What reasoning steps did the model take to select its resolution? Were they logical and aligned with company policy? (Hint: Have a look at the reasoning output)\n",
    "2. If you were designing the agent, what would you change about its decision-making process?\n",
    "3. What did you learn about prompt design and reasoning models from this exercise?"
   ]
  }
 ],
 "metadata": {
  "kernelspec": {
   "display_name": "ai-sds",
   "language": "python",
   "name": "python3"
  },
  "language_info": {
   "codemirror_mode": {
    "name": "ipython",
    "version": 3
   },
   "file_extension": ".py",
   "mimetype": "text/x-python",
   "name": "python",
   "nbconvert_exporter": "python",
   "pygments_lexer": "ipython3",
   "version": "3.12.11"
  }
 },
 "nbformat": 4,
 "nbformat_minor": 2
}
